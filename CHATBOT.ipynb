{
  "nbformat": 4,
  "nbformat_minor": 0,
  "metadata": {
    "colab": {
      "name": "CHATBOT.ipynb",
      "provenance": [],
      "collapsed_sections": []
    },
    "kernelspec": {
      "name": "python3",
      "display_name": "Python 3"
    }
  },
  "cells": [
    {
      "cell_type": "markdown",
      "metadata": {
        "id": "4263IYgnkBro",
        "colab_type": "text"
      },
      "source": [
        "# *****Chatbot*****"
      ]
    },
    {
      "cell_type": "markdown",
      "metadata": {
        "id": "9BhHXLSVkVnu",
        "colab_type": "text"
      },
      "source": [
        "Before building/starting with the chatbot.First step is to install the required packages\n",
        "\n",
        "1.pip install newspaper3k\n",
        "\n",
        "2.pip install nltk"
      ]
    },
    {
      "cell_type": "code",
      "metadata": {
        "id": "Z25cSOz-cHmy",
        "colab_type": "code",
        "colab": {}
      },
      "source": [
        "#importing the required libraries\n",
        "from newspaper import Article\n",
        "import nltk\n",
        "import random\n",
        "import string\n",
        "import numpy as np\n",
        "import warnings\n",
        "from sklearn.feature_extraction.text import TfidfVectorizer\n",
        "from sklearn.metrics.pairwise import cosine_similarity\n"
      ],
      "execution_count": 0,
      "outputs": []
    },
    {
      "cell_type": "code",
      "metadata": {
        "id": "weVvNu6jdbxe",
        "colab_type": "code",
        "colab": {}
      },
      "source": [
        "#ignoring warnings\n",
        "warnings.filterwarnings('ignore')"
      ],
      "execution_count": 0,
      "outputs": []
    },
    {
      "cell_type": "code",
      "metadata": {
        "id": "1m34pbVkdclV",
        "colab_type": "code",
        "colab": {
          "base_uri": "https://localhost:8080/",
          "height": 34
        },
        "outputId": "40cec01e-56c3-47a3-9048-4ed4b29d0d41"
      },
      "source": [
        "#downloading the packages form the nltk\n",
        "nltk.download('punkt',quiet=True)\n",
        "nltk.download('wordnet',quiet=True)"
      ],
      "execution_count": 10,
      "outputs": [
        {
          "output_type": "execute_result",
          "data": {
            "text/plain": [
              "True"
            ]
          },
          "metadata": {
            "tags": []
          },
          "execution_count": 10
        }
      ]
    },
    {
      "cell_type": "code",
      "metadata": {
        "id": "8BhxqhxwdchC",
        "colab_type": "code",
        "colab": {
          "base_uri": "https://localhost:8080/",
          "height": 360
        },
        "outputId": "56fa3a72-2a8b-4b7c-d94b-a67f60ac334f"
      },
      "source": [
        "#getting the article\n",
        "article= Article('https://www.who.int/health-topics/coronavirus')\n",
        "article.download()\n",
        "article.parse()\n",
        "article.nlp()\n",
        "corpus=article.text\n",
        "\n",
        "print(corpus)"
      ],
      "execution_count": 11,
      "outputs": [
        {
          "output_type": "stream",
          "text": [
            "Coronavirus disease (COVID-19) is an infectious disease caused by a newly discovered coronavirus.\n",
            "\n",
            "\n",
            "\n",
            "Most people infected with the COVID-19 virus will experience mild to moderate respiratory illness and recover without requiring special treatment. Older people, and those with underlying medical problems like cardiovascular disease, diabetes, chronic respiratory disease, and cancer are more likely to develop serious illness.\n",
            "\n",
            "\n",
            "\n",
            "The best way to prevent and slow down transmission is be well informed about the COVID-19 virus, the disease it causes and how it spreads. Protect yourself and others from infection by washing your hands or using an alcohol based rub frequently and not touching your face.\n",
            "\n",
            "The COVID-19 virus spreads primarily through droplets of saliva or discharge from the nose when an infected person coughs or sneezes, so it’s important that you also practice respiratory etiquette (for example, by coughing into a flexed elbow).\n",
            "\n",
            "At this time, there are no specific vaccines or treatments for COVID-19. However, there are many ongoing clinical trials evaluating potential treatments. WHO will continue to provide updated information as soon as clinical findings become available.\n",
            "\n",
            "\n",
            "\n",
            "Stay informed:\n",
            "\n",
            "\n"
          ],
          "name": "stdout"
        }
      ]
    },
    {
      "cell_type": "code",
      "metadata": {
        "id": "l8sMJJSMdccm",
        "colab_type": "code",
        "colab": {
          "base_uri": "https://localhost:8080/",
          "height": 54
        },
        "outputId": "5e4aef0b-8123-46f5-b37d-a2d4ff55c0df"
      },
      "source": [
        "#TOKENIZATION\n",
        "\n",
        "text=corpus\n",
        "sent_tokens=nltk.sent_tokenize(text)\n",
        "\n",
        "print(sent_tokens)"
      ],
      "execution_count": 12,
      "outputs": [
        {
          "output_type": "stream",
          "text": [
            "['Coronavirus disease (COVID-19) is an infectious disease caused by a newly discovered coronavirus.', 'Most people infected with the COVID-19 virus will experience mild to moderate respiratory illness and recover without requiring special treatment.', 'Older people, and those with underlying medical problems like cardiovascular disease, diabetes, chronic respiratory disease, and cancer are more likely to develop serious illness.', 'The best way to prevent and slow down transmission is be well informed about the COVID-19 virus, the disease it causes and how it spreads.', 'Protect yourself and others from infection by washing your hands or using an alcohol based rub frequently and not touching your face.', 'The COVID-19 virus spreads primarily through droplets of saliva or discharge from the nose when an infected person coughs or sneezes, so it’s important that you also practice respiratory etiquette (for example, by coughing into a flexed elbow).', 'At this time, there are no specific vaccines or treatments for COVID-19.', 'However, there are many ongoing clinical trials evaluating potential treatments.', 'WHO will continue to provide updated information as soon as clinical findings become available.', 'Stay informed:']\n"
          ],
          "name": "stdout"
        }
      ]
    },
    {
      "cell_type": "code",
      "metadata": {
        "id": "UzR0LgQJfkHH",
        "colab_type": "code",
        "colab": {
          "base_uri": "https://localhost:8080/",
          "height": 71
        },
        "outputId": "0db0d83f-b708-4c79-80c6-4ae0aa3ddff6"
      },
      "source": [
        "#Create a dictionary (key:value) pair to remove punctuations\n",
        "remove_punct_dict = dict(  ( ord(punct),None) for punct in string.punctuation)\n",
        "\n",
        "#Print the punctuations\n",
        "print(string.punctuation)\n",
        "\n",
        "#Print the dictionary\n",
        "print(remove_punct_dict)"
      ],
      "execution_count": 13,
      "outputs": [
        {
          "output_type": "stream",
          "text": [
            "!\"#$%&'()*+,-./:;<=>?@[\\]^_`{|}~\n",
            "{33: None, 34: None, 35: None, 36: None, 37: None, 38: None, 39: None, 40: None, 41: None, 42: None, 43: None, 44: None, 45: None, 46: None, 47: None, 58: None, 59: None, 60: None, 61: None, 62: None, 63: None, 64: None, 91: None, 92: None, 93: None, 94: None, 95: None, 96: None, 123: None, 124: None, 125: None, 126: None}\n"
          ],
          "name": "stdout"
        }
      ]
    },
    {
      "cell_type": "code",
      "metadata": {
        "id": "KYfptgzKfkDC",
        "colab_type": "code",
        "colab": {
          "base_uri": "https://localhost:8080/",
          "height": 54
        },
        "outputId": "4802265a-3767-475e-bcaa-0b9db5c20e45"
      },
      "source": [
        "#Create a function to return a list of lemmatized lower case words after removing punctuations\n",
        "def LemNormalize(text):\n",
        "  return nltk.word_tokenize(text.lower().translate(remove_punct_dict))\n",
        "\n",
        "#Print the tokenization text\n",
        "print(LemNormalize(text))"
      ],
      "execution_count": 14,
      "outputs": [
        {
          "output_type": "stream",
          "text": [
            "['coronavirus', 'disease', 'covid19', 'is', 'an', 'infectious', 'disease', 'caused', 'by', 'a', 'newly', 'discovered', 'coronavirus', 'most', 'people', 'infected', 'with', 'the', 'covid19', 'virus', 'will', 'experience', 'mild', 'to', 'moderate', 'respiratory', 'illness', 'and', 'recover', 'without', 'requiring', 'special', 'treatment', 'older', 'people', 'and', 'those', 'with', 'underlying', 'medical', 'problems', 'like', 'cardiovascular', 'disease', 'diabetes', 'chronic', 'respiratory', 'disease', 'and', 'cancer', 'are', 'more', 'likely', 'to', 'develop', 'serious', 'illness', 'the', 'best', 'way', 'to', 'prevent', 'and', 'slow', 'down', 'transmission', 'is', 'be', 'well', 'informed', 'about', 'the', 'covid19', 'virus', 'the', 'disease', 'it', 'causes', 'and', 'how', 'it', 'spreads', 'protect', 'yourself', 'and', 'others', 'from', 'infection', 'by', 'washing', 'your', 'hands', 'or', 'using', 'an', 'alcohol', 'based', 'rub', 'frequently', 'and', 'not', 'touching', 'your', 'face', 'the', 'covid19', 'virus', 'spreads', 'primarily', 'through', 'droplets', 'of', 'saliva', 'or', 'discharge', 'from', 'the', 'nose', 'when', 'an', 'infected', 'person', 'coughs', 'or', 'sneezes', 'so', 'it', '’', 's', 'important', 'that', 'you', 'also', 'practice', 'respiratory', 'etiquette', 'for', 'example', 'by', 'coughing', 'into', 'a', 'flexed', 'elbow', 'at', 'this', 'time', 'there', 'are', 'no', 'specific', 'vaccines', 'or', 'treatments', 'for', 'covid19', 'however', 'there', 'are', 'many', 'ongoing', 'clinical', 'trials', 'evaluating', 'potential', 'treatments', 'who', 'will', 'continue', 'to', 'provide', 'updated', 'information', 'as', 'soon', 'as', 'clinical', 'findings', 'become', 'available', 'stay', 'informed']\n"
          ],
          "name": "stdout"
        }
      ]
    },
    {
      "cell_type": "code",
      "metadata": {
        "id": "1KduMHfVfkAU",
        "colab_type": "code",
        "colab": {}
      },
      "source": [
        "#Keyword Matching\n",
        "\n",
        "#Greeting Inputs\n",
        "GREETING_INPUTS = [\"hi\", \"hello\", \"greetings\", \"wassup\", \"hey\"]\n",
        "\n",
        "#Greeting responses back to the user\n",
        "GREETING_RESPONSES=[\"Hey\", \"hi\",  \"what's good\", \"hello\", \"hey there\"]\n",
        "\n",
        "#Function to return a random greeting response to a users greeting\n",
        "def greeting(sentence):\n",
        "  #if the user's input is a greeting, then return a randomly chosen greeting response\n",
        "  for word in sentence.split():\n",
        "    if word.lower() in GREETING_INPUTS:\n",
        "      return random.choice(GREETING_RESPONSES)"
      ],
      "execution_count": 0,
      "outputs": []
    },
    {
      "cell_type": "code",
      "metadata": {
        "id": "Ucv70KtCfj4x",
        "colab_type": "code",
        "colab": {}
      },
      "source": [
        "def response(user_response):\n",
        "  \n",
        "\n",
        "  #The users response / query\n",
        "  #user_response = 'What is chronic kidney disease'\n",
        "\n",
        "  user_response = user_response.lower() #Make the response lower case\n",
        "\n",
        "  ###Print the users query/ response\n",
        "  #print(user_response)\n",
        "\n",
        "  #Set the chatbot response to an empty string\n",
        "  robo_response = ''\n",
        "\n",
        "  #Append the users response to the sentence list\n",
        "  sent_tokens.append(user_response)\n",
        "\n",
        "  ###Print the sentence list after appending the users response\n",
        "  #print(sent_tokens)\n",
        "\n",
        "    #Create a TfidfVectorizer Object\n",
        "  TfidfVec = TfidfVectorizer(tokenizer = LemNormalize, stop_words='english')\n",
        "\n",
        "  #Convert the text to a matrix of TF-IDF features\n",
        "  tfidf = TfidfVec.fit_transform(sent_tokens)\n",
        "\n",
        "  ###Print the TFIDF features\n",
        "  #print(tfidf)\n",
        "\n",
        "  #Get the measure of similarity (similarity scores)\n",
        "  vals = cosine_similarity(tfidf[-1], tfidf)\n",
        "\n",
        "  #Print the similarity scores\n",
        "  #print(vals)\n",
        "\n",
        "  #Get the index of the most similar text/sentence to the users response\n",
        "  idx = vals.argsort()[0][-2]\n",
        "\n",
        "  #Reduce the dimensionality of vals\n",
        "  flat = vals.flatten()\n",
        "\n",
        "  #sort the list in ascending order\n",
        "  flat.sort()\n",
        "\n",
        "  #Get the most similar score to the users response\n",
        "  score = flat[-2]\n",
        "\n",
        "  #Print the similarity score\n",
        "  #print(score)\n",
        "\n",
        "  #If the variable 'score' is 0 then their is no text similar to the users response\n",
        "  if(score == 0):\n",
        "    robo_response = robo_response+\"I apologize, I don't understand.\"\n",
        "  else:\n",
        "    robo_response = robo_response+sent_tokens[idx]\n",
        "  \n",
        "  #Print the chat bot response\n",
        "  #print(robo_response)\n",
        "  \n",
        "  #Remove the users response from the sentence tokens list\n",
        "  sent_tokens.remove(user_response)\n",
        "  \n",
        "  return robo_response\n",
        "   "
      ],
      "execution_count": 0,
      "outputs": []
    },
    {
      "cell_type": "code",
      "metadata": {
        "id": "cOdvFYONf9B3",
        "colab_type": "code",
        "colab": {
          "base_uri": "https://localhost:8080/",
          "height": 170
        },
        "outputId": "f4e72f14-5d40-4f10-ef48-f9312520043c"
      },
      "source": [
        "flag=True\n",
        "print(\"DOCBot: I am Doctor Bot or DOCBot for short. I will answer your queries about corona Disease. If you want to exit, type Bye!\")\n",
        "while(flag == True):\n",
        "  user_response = input()\n",
        "  user_response = user_response.lower()\n",
        "  if(user_response != 'bye'):\n",
        "    if(user_response == 'thanks' or user_response =='thank you'):\n",
        "      flag=False\n",
        "      print(\"DOCBot: You are welcome !\")\n",
        "    else:\n",
        "      if(greeting(user_response) != None):\n",
        "        print(\"DOCBot: \"+greeting(user_response))\n",
        "      else:\n",
        "        print(\"DOCBot: \"+response(user_response))       \n",
        "  else:\n",
        "    flag = False"
      ],
      "execution_count": 24,
      "outputs": [
        {
          "output_type": "stream",
          "text": [
            "DOCBot: I am Doctor Bot or DOCBot for short. I will answer your queries about corona Disease. If you want to exit, type Bye!\n",
            "hi\n",
            "DOCBot: what's good\n",
            "What is coronavirus disease?\n",
            "DOCBot: Coronavirus disease (COVID-19) is an infectious disease caused by a newly discovered coronavirus.\n",
            "thanks for the information\n",
            "DOCBot: WHO will continue to provide updated information as soon as clinical findings become available.\n",
            "thanks\n",
            "DOCBot: You are welcome !\n"
          ],
          "name": "stdout"
        }
      ]
    }
  ]
}